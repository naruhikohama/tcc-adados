{
 "cells": [
  {
   "cell_type": "markdown",
   "metadata": {},
   "source": [
    "# Importando as libs"
   ]
  },
  {
   "cell_type": "code",
   "execution_count": 3,
   "metadata": {},
   "outputs": [],
   "source": [
    "import numpy as np \n",
    "import pandas as pd \n",
    "import matplotlib.pyplot as plt \n",
    "import seaborn as sns \n",
    "from pandas_datareader import data as pdr\n",
    "from matplotlib.dates import DateFormatter\n",
    "from datetime import date\n",
    "import yfinance"
   ]
  },
  {
   "cell_type": "code",
   "execution_count": 4,
   "metadata": {},
   "outputs": [],
   "source": [
    "# Configuração do seaborn\n",
    "plt.rcParams['figure.figsize'] = [17, 9]\n",
    "dic = {'grid.color': '#bdbdbd',\n",
    "       'axes.grid': True,\n",
    "       'axes.labelcolor': '#D3D3D3',\n",
    "       'text.color': '#939393', # Cor do titulo\n",
    "        'xtick.color': '#bdbdbd', # Cor dos ticks do eixo x\n",
    "        'ytick.color': '#bdbdbd', # Cor dos ticks do eixo y\n",
    "        'axes.edgecolor': 'bdbdbd',\n",
    "        'font.sans-serif': ['Arial'], # Fonte\n",
    "        'font.family': ['Arial'], # Fonte\n",
    "        'grid.linestyle': '-'} \n",
    "sns.set_style(style=\"whitegrid\",rc = dic)"
   ]
  },
  {
   "cell_type": "markdown",
   "metadata": {},
   "source": [
    "# Extraindo os dados"
   ]
  },
  {
   "cell_type": "code",
   "execution_count": 5,
   "metadata": {},
   "outputs": [],
   "source": [
    "yfinance.pdr_override()"
   ]
  },
  {
   "cell_type": "code",
   "execution_count": 6,
   "metadata": {},
   "outputs": [
    {
     "name": "stdout",
     "output_type": "stream",
     "text": [
      "[*********************100%%**********************]  1 of 1 completed\n"
     ]
    }
   ],
   "source": [
    "data_inicial = \"2001-12-31\"\n",
    "data_final = \"2022-12-31\"\n",
    "# Extraindo os dados do indice Ibovespa\n",
    "ibov = pdr.get_data_yahoo(\"^BVSP\", data_inicial, data_final)\n",
    "ibov = ibov.reset_index()"
   ]
  },
  {
   "cell_type": "code",
   "execution_count": 7,
   "metadata": {},
   "outputs": [],
   "source": [
    "# Renomeando as colunas do df do ibov\n",
    "ibov.columns = ['data', 'fechamento_ibov', 'abertura_ibov', 'maxima_ibov', 'minina_ibov_a', 'minima_ibov',\t'volume_ibov']"
   ]
  },
  {
   "cell_type": "code",
   "execution_count": 8,
   "metadata": {},
   "outputs": [],
   "source": [
    "# Lendo o csv com a cotação do dolar e ajustando as colunas\n",
    "dolar = pd.read_csv('usd_brl.csv', sep=',')\n",
    "dolar['data'] = pd.to_datetime(dolar['data'], format='%d.%m.%Y')\n",
    "dolar['ultimo'] = dolar['ultimo'].str.replace(',', '.')\n",
    "dolar['fechamento_dolar'] = dolar['ultimo'].astype(float)\n",
    "dolar['abertura'] = dolar['abertura'].str.replace(',', '.')\n",
    "dolar['abertura_dolar'] = dolar['abertura'].astype(float)\n",
    "dolar['maxima'] = dolar['maxima'].str.replace(',', '.')\n",
    "dolar['maxima_dolar'] = dolar['maxima'].astype(float)\n",
    "dolar['minima'] = dolar['minima'].str.replace(',', '.')\n",
    "dolar['minima_dolar'] = dolar['minima'].astype(float)\n",
    "dolar['volume_dolar'] = dolar['volume'].str.replace(',', '.')\n",
    "dolar = dolar[['data','fechamento_dolar', 'abertura_dolar', 'maxima_dolar', 'minima_dolar']]"
   ]
  },
  {
   "cell_type": "code",
   "execution_count": 10,
   "metadata": {},
   "outputs": [],
   "source": [
    "# Unindo os dois dataframes\n",
    "df1 = pd.merge(ibov, dolar, on='data', how='inner')\n",
    "df1 = df1[['data', 'fechamento_ibov', 'abertura_ibov', 'maxima_ibov', 'minima_ibov', 'fechamento_dolar', 'abertura_dolar', 'maxima_dolar', 'minima_dolar']]\n",
    "df1 = df1[['data', 'fechamento_ibov', 'fechamento_dolar']]"
   ]
  },
  {
   "cell_type": "code",
   "execution_count": 13,
   "metadata": {},
   "outputs": [],
   "source": [
    "df1.to_csv('./dolar_ibov.csv', index=False)"
   ]
  }
 ],
 "metadata": {
  "kernelspec": {
   "display_name": ".venv",
   "language": "python",
   "name": "python3"
  },
  "language_info": {
   "codemirror_mode": {
    "name": "ipython",
    "version": 3
   },
   "file_extension": ".py",
   "mimetype": "text/x-python",
   "name": "python",
   "nbconvert_exporter": "python",
   "pygments_lexer": "ipython3",
   "version": "3.11.3"
  },
  "orig_nbformat": 4
 },
 "nbformat": 4,
 "nbformat_minor": 2
}
