{
 "cells": [
  {
   "cell_type": "markdown",
   "metadata": {},
   "source": [
    "# Importando as libs"
   ]
  },
  {
   "cell_type": "code",
   "execution_count": 6,
   "metadata": {},
   "outputs": [],
   "source": [
    "import pandas as pd \n",
    "import matplotlib.pyplot as plt \n",
    "import seaborn as sns \n",
    "from pandas_datareader import data as pdr\n",
    "import yfinance"
   ]
  },
  {
   "cell_type": "markdown",
   "metadata": {},
   "source": [
    "# Extraindo os dados"
   ]
  },
  {
   "cell_type": "code",
   "execution_count": 8,
   "metadata": {},
   "outputs": [],
   "source": [
    "yfinance.pdr_override()"
   ]
  },
  {
   "cell_type": "code",
   "execution_count": 9,
   "metadata": {},
   "outputs": [
    {
     "name": "stdout",
     "output_type": "stream",
     "text": [
      "[*********************100%%**********************]  1 of 1 completed\n"
     ]
    }
   ],
   "source": [
    "data_inicial = \"2001-12-31\"\n",
    "data_final = \"2022-12-31\"\n",
    "# Extraindo os dados do indice Ibovespa\n",
    "ibov = pdr.get_data_yahoo(\"^BVSP\", data_inicial, data_final)\n",
    "ibov = ibov.reset_index()"
   ]
  },
  {
   "cell_type": "code",
   "execution_count": 10,
   "metadata": {},
   "outputs": [],
   "source": [
    "# Renomeando as colunas do df do ibov\n",
    "ibov.columns = ['data', 'fechamento_ibov', 'abertura_ibov', 'maxima_ibov', 'minina_ibov_a', 'minima_ibov',\t'volume_ibov']"
   ]
  },
  {
   "cell_type": "code",
   "execution_count": 11,
   "metadata": {},
   "outputs": [],
   "source": [
    "# Lendo o csv com a cotação do dolar\n",
    "dolar_raw = pd.read_csv('usd_brl.csv', sep=',')"
   ]
  },
  {
   "cell_type": "code",
   "execution_count": 12,
   "metadata": {},
   "outputs": [
    {
     "data": {
      "text/html": [
       "<div>\n",
       "<style scoped>\n",
       "    .dataframe tbody tr th:only-of-type {\n",
       "        vertical-align: middle;\n",
       "    }\n",
       "\n",
       "    .dataframe tbody tr th {\n",
       "        vertical-align: top;\n",
       "    }\n",
       "\n",
       "    .dataframe thead th {\n",
       "        text-align: right;\n",
       "    }\n",
       "</style>\n",
       "<table border=\"1\" class=\"dataframe\">\n",
       "  <thead>\n",
       "    <tr style=\"text-align: right;\">\n",
       "      <th></th>\n",
       "      <th>data</th>\n",
       "      <th>fechamento_dolar</th>\n",
       "      <th>abertura_dolar</th>\n",
       "      <th>maxima_dolar</th>\n",
       "      <th>minima_dolar</th>\n",
       "    </tr>\n",
       "  </thead>\n",
       "  <tbody>\n",
       "    <tr>\n",
       "      <th>0</th>\n",
       "      <td>2023-01-02</td>\n",
       "      <td>5.3633</td>\n",
       "      <td>5.2865</td>\n",
       "      <td>5.3671</td>\n",
       "      <td>5.2861</td>\n",
       "    </tr>\n",
       "    <tr>\n",
       "      <th>1</th>\n",
       "      <td>2022-12-29</td>\n",
       "      <td>5.2860</td>\n",
       "      <td>5.2681</td>\n",
       "      <td>5.3049</td>\n",
       "      <td>5.1895</td>\n",
       "    </tr>\n",
       "    <tr>\n",
       "      <th>2</th>\n",
       "      <td>2022-12-28</td>\n",
       "      <td>5.2676</td>\n",
       "      <td>5.2967</td>\n",
       "      <td>5.2967</td>\n",
       "      <td>5.2260</td>\n",
       "    </tr>\n",
       "    <tr>\n",
       "      <th>3</th>\n",
       "      <td>2022-12-27</td>\n",
       "      <td>5.2928</td>\n",
       "      <td>5.2189</td>\n",
       "      <td>5.3028</td>\n",
       "      <td>5.1940</td>\n",
       "    </tr>\n",
       "    <tr>\n",
       "      <th>4</th>\n",
       "      <td>2022-12-26</td>\n",
       "      <td>5.2186</td>\n",
       "      <td>5.1669</td>\n",
       "      <td>5.2210</td>\n",
       "      <td>5.1545</td>\n",
       "    </tr>\n",
       "  </tbody>\n",
       "</table>\n",
       "</div>"
      ],
      "text/plain": [
       "        data  fechamento_dolar  abertura_dolar  maxima_dolar  minima_dolar\n",
       "0 2023-01-02            5.3633          5.2865        5.3671        5.2861\n",
       "1 2022-12-29            5.2860          5.2681        5.3049        5.1895\n",
       "2 2022-12-28            5.2676          5.2967        5.2967        5.2260\n",
       "3 2022-12-27            5.2928          5.2189        5.3028        5.1940\n",
       "4 2022-12-26            5.2186          5.1669        5.2210        5.1545"
      ]
     },
     "execution_count": 12,
     "metadata": {},
     "output_type": "execute_result"
    }
   ],
   "source": [
    "# Ajustando as colunas\n",
    "dolar = (\n",
    "    dolar_raw.copy()\n",
    "    .assign(\n",
    "        data = lambda dff: pd.to_datetime(dff['data'], format='%d.%m.%Y'),\n",
    "        fechamento_dolar = lambda dff: dff['ultimo'].str.replace(',', '.').astype(float),\n",
    "        abertura_dolar = lambda dff: dff['abertura'].str.replace(',', '.').astype(float),\n",
    "        maxima_dolar = lambda dff: dff['maxima'].str.replace(',', '.').astype(float),\n",
    "        minima_dolar = lambda dff: dff['minima'].str.replace(',', '.').astype(float),\n",
    "        volume_dolar = lambda dff: dff['volume'].str.replace(',', '.')\n",
    "    )\n",
    "    .loc[:, ['data', 'fechamento_dolar', 'abertura_dolar', 'maxima_dolar', 'minima_dolar']]\n",
    ")\n",
    "\n",
    "dolar.head()"
   ]
  },
  {
   "cell_type": "code",
   "execution_count": 13,
   "metadata": {},
   "outputs": [],
   "source": [
    "# Unindo os dois dataframes\n",
    "df1 = (\n",
    "    ibov\n",
    "    .merge(dolar, on='data', how='inner')\n",
    "    .loc[:, ['data', 'fechamento_ibov', 'fechamento_dolar']]\n",
    ")"
   ]
  },
  {
   "cell_type": "code",
   "execution_count": 14,
   "metadata": {},
   "outputs": [],
   "source": [
    "df1.to_csv('./dolar_ibov.csv', index=False)"
   ]
  },
  {
   "cell_type": "code",
   "execution_count": null,
   "metadata": {},
   "outputs": [],
   "source": []
  }
 ],
 "metadata": {
  "kernelspec": {
   "display_name": ".venv",
   "language": "python",
   "name": "python3"
  },
  "language_info": {
   "codemirror_mode": {
    "name": "ipython",
    "version": 3
   },
   "file_extension": ".py",
   "mimetype": "text/x-python",
   "name": "python",
   "nbconvert_exporter": "python",
   "pygments_lexer": "ipython3",
   "version": "3.11.5"
  },
  "orig_nbformat": 4
 },
 "nbformat": 4,
 "nbformat_minor": 2
}
